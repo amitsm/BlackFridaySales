{
 "cells": [
  {
   "cell_type": "markdown",
   "metadata": {},
   "source": [
    "### 1. Data Import and Data Summary"
   ]
  },
  {
   "cell_type": "markdown",
   "metadata": {},
   "source": [
    "#### (a) Load the data xyz.csv into a pandas dataframe."
   ]
  },
  {
   "cell_type": "code",
   "execution_count": 1,
   "metadata": {},
   "outputs": [
    {
     "name": "stdout",
     "output_type": "stream",
     "text": [
      "C:\\Users\\Amit Manghwani\\Desktop\\INterview\n"
     ]
    }
   ],
   "source": [
    "# import all the packages\n",
    "\n",
    "import numpy as np\n",
    "import pandas as pd\n",
    "\n",
    "\n",
    "import sklearn.linear_model as lm\n",
    "import statsmodels.formula.api as smf\n",
    "\n",
    "import matplotlib.pyplot as plt\n",
    "import os\n",
    "%matplotlib inline\n",
    "path= os.getcwd()\n",
    "print(path)"
   ]
  },
  {
   "cell_type": "code",
   "execution_count": 2,
   "metadata": {},
   "outputs": [],
   "source": [
    "df=pd.read_csv(r'C:\\Users\\Amit Manghwani\\Desktop\\INterview/BlackFriday.csv')\n",
    "df=pd.DataFrame(df)"
   ]
  },
  {
   "cell_type": "markdown",
   "metadata": {},
   "source": [
    "#### (b) It's time to get to know your data! Report the number of rows and columns in the dataset.\n",
    "#### (c) What variables does this dataset have? Report the variable names along with the data type of each variable."
   ]
  },
  {
   "cell_type": "code",
   "execution_count": 3,
   "metadata": {
    "scrolled": true
   },
   "outputs": [
    {
     "name": "stdout",
     "output_type": "stream",
     "text": [
      "<class 'pandas.core.frame.DataFrame'>\n",
      "RangeIndex: 537577 entries, 0 to 537576\n",
      "Data columns (total 12 columns):\n",
      "User_ID                       537577 non-null int64\n",
      "Product_ID                    537577 non-null object\n",
      "Gender                        537577 non-null object\n",
      "Age                           537577 non-null object\n",
      "Occupation                    537577 non-null int64\n",
      "City_Category                 537577 non-null object\n",
      "Stay_In_Current_City_Years    537577 non-null object\n",
      "Marital_Status                537577 non-null int64\n",
      "Product_Category_1            537577 non-null int64\n",
      "Product_Category_2            370591 non-null float64\n",
      "Product_Category_3            164278 non-null float64\n",
      "Purchase                      537577 non-null int64\n",
      "dtypes: float64(2), int64(5), object(5)\n",
      "memory usage: 49.2+ MB\n",
      "User_ID                         int64\n",
      "Product_ID                     object\n",
      "Gender                         object\n",
      "Age                            object\n",
      "Occupation                      int64\n",
      "City_Category                  object\n",
      "Stay_In_Current_City_Years     object\n",
      "Marital_Status                  int64\n",
      "Product_Category_1              int64\n",
      "Product_Category_2            float64\n",
      "Product_Category_3            float64\n",
      "Purchase                        int64\n",
      "dtype: object\n"
     ]
    }
   ],
   "source": [
    "df.info()\n",
    "print(df.dtypes)"
   ]
  },
  {
   "cell_type": "markdown",
   "metadata": {},
   "source": [
    "#### Please type the number of rows and columns.\n",
    "#### Number of rows: 537577\n",
    "#### Number of columns: 12"
   ]
  },
  {
   "cell_type": "code",
   "execution_count": 4,
   "metadata": {},
   "outputs": [
    {
     "data": {
      "text/html": [
       "<div>\n",
       "<style scoped>\n",
       "    .dataframe tbody tr th:only-of-type {\n",
       "        vertical-align: middle;\n",
       "    }\n",
       "\n",
       "    .dataframe tbody tr th {\n",
       "        vertical-align: top;\n",
       "    }\n",
       "\n",
       "    .dataframe thead th {\n",
       "        text-align: right;\n",
       "    }\n",
       "</style>\n",
       "<table border=\"1\" class=\"dataframe\">\n",
       "  <thead>\n",
       "    <tr style=\"text-align: right;\">\n",
       "      <th></th>\n",
       "      <th>User_ID</th>\n",
       "      <th>Occupation</th>\n",
       "      <th>Marital_Status</th>\n",
       "      <th>Product_Category_1</th>\n",
       "      <th>Product_Category_2</th>\n",
       "      <th>Product_Category_3</th>\n",
       "      <th>Purchase</th>\n",
       "    </tr>\n",
       "  </thead>\n",
       "  <tbody>\n",
       "    <tr>\n",
       "      <th>count</th>\n",
       "      <td>5.375770e+05</td>\n",
       "      <td>537577.00000</td>\n",
       "      <td>537577.000000</td>\n",
       "      <td>537577.000000</td>\n",
       "      <td>370591.000000</td>\n",
       "      <td>164278.000000</td>\n",
       "      <td>537577.000000</td>\n",
       "    </tr>\n",
       "    <tr>\n",
       "      <th>mean</th>\n",
       "      <td>1.002992e+06</td>\n",
       "      <td>8.08271</td>\n",
       "      <td>0.408797</td>\n",
       "      <td>5.295546</td>\n",
       "      <td>9.842144</td>\n",
       "      <td>12.669840</td>\n",
       "      <td>9333.859853</td>\n",
       "    </tr>\n",
       "    <tr>\n",
       "      <th>std</th>\n",
       "      <td>1.714393e+03</td>\n",
       "      <td>6.52412</td>\n",
       "      <td>0.491612</td>\n",
       "      <td>3.750701</td>\n",
       "      <td>5.087259</td>\n",
       "      <td>4.124341</td>\n",
       "      <td>4981.022133</td>\n",
       "    </tr>\n",
       "    <tr>\n",
       "      <th>min</th>\n",
       "      <td>1.000001e+06</td>\n",
       "      <td>0.00000</td>\n",
       "      <td>0.000000</td>\n",
       "      <td>1.000000</td>\n",
       "      <td>2.000000</td>\n",
       "      <td>3.000000</td>\n",
       "      <td>185.000000</td>\n",
       "    </tr>\n",
       "    <tr>\n",
       "      <th>25%</th>\n",
       "      <td>1.001495e+06</td>\n",
       "      <td>2.00000</td>\n",
       "      <td>0.000000</td>\n",
       "      <td>1.000000</td>\n",
       "      <td>5.000000</td>\n",
       "      <td>9.000000</td>\n",
       "      <td>5866.000000</td>\n",
       "    </tr>\n",
       "    <tr>\n",
       "      <th>50%</th>\n",
       "      <td>1.003031e+06</td>\n",
       "      <td>7.00000</td>\n",
       "      <td>0.000000</td>\n",
       "      <td>5.000000</td>\n",
       "      <td>9.000000</td>\n",
       "      <td>14.000000</td>\n",
       "      <td>8062.000000</td>\n",
       "    </tr>\n",
       "    <tr>\n",
       "      <th>75%</th>\n",
       "      <td>1.004417e+06</td>\n",
       "      <td>14.00000</td>\n",
       "      <td>1.000000</td>\n",
       "      <td>8.000000</td>\n",
       "      <td>15.000000</td>\n",
       "      <td>16.000000</td>\n",
       "      <td>12073.000000</td>\n",
       "    </tr>\n",
       "    <tr>\n",
       "      <th>max</th>\n",
       "      <td>1.006040e+06</td>\n",
       "      <td>20.00000</td>\n",
       "      <td>1.000000</td>\n",
       "      <td>18.000000</td>\n",
       "      <td>18.000000</td>\n",
       "      <td>18.000000</td>\n",
       "      <td>23961.000000</td>\n",
       "    </tr>\n",
       "  </tbody>\n",
       "</table>\n",
       "</div>"
      ],
      "text/plain": [
       "            User_ID    Occupation  Marital_Status  Product_Category_1  \\\n",
       "count  5.375770e+05  537577.00000   537577.000000       537577.000000   \n",
       "mean   1.002992e+06       8.08271        0.408797            5.295546   \n",
       "std    1.714393e+03       6.52412        0.491612            3.750701   \n",
       "min    1.000001e+06       0.00000        0.000000            1.000000   \n",
       "25%    1.001495e+06       2.00000        0.000000            1.000000   \n",
       "50%    1.003031e+06       7.00000        0.000000            5.000000   \n",
       "75%    1.004417e+06      14.00000        1.000000            8.000000   \n",
       "max    1.006040e+06      20.00000        1.000000           18.000000   \n",
       "\n",
       "       Product_Category_2  Product_Category_3       Purchase  \n",
       "count       370591.000000       164278.000000  537577.000000  \n",
       "mean             9.842144           12.669840    9333.859853  \n",
       "std              5.087259            4.124341    4981.022133  \n",
       "min              2.000000            3.000000     185.000000  \n",
       "25%              5.000000            9.000000    5866.000000  \n",
       "50%              9.000000           14.000000    8062.000000  \n",
       "75%             15.000000           16.000000   12073.000000  \n",
       "max             18.000000           18.000000   23961.000000  "
      ]
     },
     "execution_count": 4,
     "metadata": {},
     "output_type": "execute_result"
    }
   ],
   "source": [
    "#to get a better understanding of the data for all the columns\n",
    "df.describe()"
   ]
  },
  {
   "cell_type": "markdown",
   "metadata": {},
   "source": [
    "### 2. Data Manipulation/ Exploratory Analyses"
   ]
  },
  {
   "cell_type": "markdown",
   "metadata": {},
   "source": [
    "#### (a) What are the features included in the dataset?"
   ]
  },
  {
   "cell_type": "markdown",
   "metadata": {},
   "source": [
    "#### Features are Age,Occupation,Gender, City_Category, Stay_In_Current_City_Years, Marital_Status, Product_Category_1,\n",
    "#### Product_Category_2, Product_Category_3, Purchase\n",
    "\n",
    "#### I have not assumed Product_ID and User_ID as features.\n"
   ]
  },
  {
   "cell_type": "code",
   "execution_count": 5,
   "metadata": {},
   "outputs": [],
   "source": [
    "#### (c) What is the distribution of purchase? Please create a visulization in support of your answer."
   ]
  },
  {
   "cell_type": "code",
   "execution_count": 6,
   "metadata": {},
   "outputs": [
    {
     "name": "stderr",
     "output_type": "stream",
     "text": [
      "C:\\Users\\Amit Manghwani\\Anaconda3\\lib\\site-packages\\scipy\\stats\\stats.py:1713: FutureWarning: Using a non-tuple sequence for multidimensional indexing is deprecated; use `arr[tuple(seq)]` instead of `arr[seq]`. In the future this will be interpreted as an array index, `arr[np.array(seq)]`, which will result either in an error or a different result.\n",
      "  return np.add.reduce(sorted[indexer] * weights, axis=axis) / sumval\n"
     ]
    },
    {
     "data": {
      "text/plain": [
       "count    537577.000000\n",
       "mean       9333.859853\n",
       "std        4981.022133\n",
       "min         185.000000\n",
       "25%        5866.000000\n",
       "50%        8062.000000\n",
       "75%       12073.000000\n",
       "max       23961.000000\n",
       "Name: Purchase, dtype: float64"
      ]
     },
     "execution_count": 6,
     "metadata": {},
     "output_type": "execute_result"
    },
    {
     "data": {
      "image/png": "[encoded data removed]",
      "text/plain": [
       "<Figure size 432x288 with 1 Axes>"
      ]
     },
     "metadata": {
      "needs_background": "light"
     },
     "output_type": "display_data"
    }
   ],
   "source": [
    "import seaborn as sns\n",
    "\n",
    "sns.distplot(df.Purchase, bins=20)\n",
    "\n",
    "df['Purchase'].describe()"
   ]
  },
  {
   "cell_type": "markdown",
   "metadata": {},
   "source": [
    "### Mean purchase is around 9333 whereas median is around 8062 dollars. "
   ]
  },
  {
   "cell_type": "code",
   "execution_count": 7,
   "metadata": {},
   "outputs": [
    {
     "data": {
      "text/plain": [
       "Text(0,0.5,'Count')"
      ]
     },
     "execution_count": 7,
     "metadata": {},
     "output_type": "execute_result"
    },
    {
     "data": {
      "image/png": "[encoded data removed]",
      "text/plain": [
       "<Figure size 720x360 with 1 Axes>"
      ]
     },
     "metadata": {
      "needs_background": "light"
     },
     "output_type": "display_data"
    }
   ],
   "source": [
    "#Another way to plot distribution using matplotlib\n",
    "\n",
    "plt.figure(figsize=(10,5))\n",
    "plt.hist(df['Purchase'],bins=50, alpha=0.8)\n",
    "plt.xlabel('Purchase',fontsize=14)\n",
    "plt.ylabel('Count',fontsize=14)"
   ]
  },
  {
   "cell_type": "markdown",
   "metadata": {},
   "source": [
    "### (d) What is the purchase by age by gender? Please create a visulization in support of your answer."
   ]
  },
  {
   "cell_type": "code",
   "execution_count": 8,
   "metadata": {},
   "outputs": [
    {
     "name": "stdout",
     "output_type": "stream",
     "text": [
      "      Age Gender     Purchase\n",
      "0    0-17      F  8444.703210\n",
      "1    0-17      M  9312.322227\n",
      "2   18-25      F  8405.430852\n",
      "3   18-25      M  9506.501081\n",
      "4   26-35      F  8791.798654\n",
      "5   26-35      M  9470.621052\n",
      "6   36-45      F  9046.573808\n",
      "7   36-45      M  9517.126321\n",
      "8   46-50      F  8929.448740\n",
      "9   46-50      M  9429.151563\n",
      "10  51-55      F  9131.451837\n",
      "11  51-55      M  9789.020476\n",
      "12    55+      F  9119.577196\n",
      "13    55+      M  9557.058094\n"
     ]
    },
    {
     "data": {
      "text/plain": [
       "<seaborn.axisgrid.FacetGrid at 0x15d8115d518>"
      ]
     },
     "execution_count": 8,
     "metadata": {},
     "output_type": "execute_result"
    },
    {
     "data": {
      "image/png": "[encoded data removed]",
      "text/plain": [
       "<Figure size 480.85x432 with 1 Axes>"
      ]
     },
     "metadata": {},
     "output_type": "display_data"
    }
   ],
   "source": [
    "\n",
    "sns.set(style=\"whitegrid\")\n",
    "df_purchase_by_Gender = df.groupby(['Age','Gender']).agg({'Purchase':np.mean}).reset_index()\n",
    "print(df_purchase_by_Gender)\n",
    "\n",
    "# Plot of purchase by Gender by Age\n",
    "plot_gender_age= sns.catplot(x=\"Age\", y=\"Purchase\", hue=\"Gender\", data=df_purchase_by_Gender,\n",
    "                height=6, kind=\"bar\", palette=\"muted\")\n",
    "plot_gender_age.despine(left=True)\n",
    "plot_gender_age.set_ylabels(\"Mean Purchase\")\n",
    "plot_gender_age.set_xlabels(\"Age and Gender\")\n"
   ]
  },
  {
   "cell_type": "markdown",
   "metadata": {},
   "source": [
    "#### Throughout all age groups it looks like males shop more than females. \n",
    "#### There is not much difference in the average purchase across age groups in both genders."
   ]
  },
  {
   "cell_type": "markdown",
   "metadata": {},
   "source": [
    "#### (e) What is the distribution of purchase per city per maritial status? Please create a visulization in support of your answer."
   ]
  },
  {
   "cell_type": "code",
   "execution_count": 9,
   "metadata": {},
   "outputs": [
    {
     "name": "stdout",
     "output_type": "stream",
     "text": [
      "  City_Category  Marital_Status     Purchase\n",
      "0             A               0  9021.237649\n",
      "1             A               1  8855.717756\n",
      "2             B               0  9192.249551\n",
      "3             B               1  9207.978143\n",
      "4             C               0  9830.386771\n",
      "5             C               1  9862.775149\n"
     ]
    },
    {
     "data": {
      "text/plain": [
       "<seaborn.axisgrid.FacetGrid at 0x15d81493668>"
      ]
     },
     "execution_count": 9,
     "metadata": {},
     "output_type": "execute_result"
    },
    {
     "data": {
      "image/png": "[encoded data removed]",
      "text/plain": [
       "<Figure size 506.175x432 with 1 Axes>"
      ]
     },
     "metadata": {},
     "output_type": "display_data"
    }
   ],
   "source": [
    "sns.set(style=\"whitegrid\")\n",
    "by_city_marital = df.groupby(['City_Category','Marital_Status']).agg({'Purchase':np.mean}).reset_index()\n",
    "print(by_city_marital)\n",
    "\n",
    "# Plot of purchase by Gender by Age\n",
    "by_city_marital_plot= sns.catplot(x=\"City_Category\", y=\"Purchase\", hue=\"Marital_Status\", data=by_city_marital,\n",
    "                height=6, kind=\"bar\", palette=\"muted\")\n",
    "by_city_marital_plot.despine(left=True)\n",
    "#plot_gender_age.set_title(\"Purchase by City and Marital_Status \")\n",
    "by_city_marital_plot.set_ylabels(\"Average Purchase by City and Marital_Status \")\n",
    "by_city_marital_plot.set_xlabels(\"City and Marital_Status \")\n"
   ]
  },
  {
   "cell_type": "markdown",
   "metadata": {},
   "source": [
    "#### City category C has the highest mean purchase among all the categories."
   ]
  },
  {
   "cell_type": "markdown",
   "metadata": {},
   "source": [
    "#### (f) What is the distribution of purchase per city per stay in current city? Please create a visulization in support of your answer."
   ]
  },
  {
   "cell_type": "code",
   "execution_count": 10,
   "metadata": {},
   "outputs": [],
   "source": [
    "# removing + from stay in City \n",
    "df['Stay_In_Current_City_Years']=(df['Stay_In_Current_City_Years'].str.strip('+').astype('float'))"
   ]
  },
  {
   "cell_type": "code",
   "execution_count": 11,
   "metadata": {},
   "outputs": [],
   "source": [
    "df.Stay_In_Current_City_Years = pd.Categorical(df.Stay_In_Current_City_Years)"
   ]
  },
  {
   "cell_type": "code",
   "execution_count": 12,
   "metadata": {},
   "outputs": [
    {
     "name": "stdout",
     "output_type": "stream",
     "text": [
      "   Stay_In_Current_City_Years City_Category     Purchase\n",
      "0                         0.0             A  9028.710591\n",
      "1                         0.0             B  8946.812564\n",
      "2                         0.0             C  9900.145676\n",
      "3                         1.0             A  8927.870743\n",
      "4                         1.0             B  9225.205104\n",
      "5                         1.0             C  9767.681720\n",
      "6                         2.0             A  9014.848463\n",
      "7                         2.0             B  9250.978676\n",
      "8                         2.0             C  9900.361216\n",
      "9                         3.0             A  8956.718849\n",
      "10                        3.0             B  9231.433705\n",
      "11                        3.0             C  9892.719685\n",
      "12                        4.0             A  8880.110251\n",
      "13                        4.0             B  9240.194353\n",
      "14                        4.0             C  9855.517169\n"
     ]
    },
    {
     "data": {
      "text/plain": [
       "<seaborn.axisgrid.FacetGrid at 0x15d80683be0>"
      ]
     },
     "execution_count": 12,
     "metadata": {},
     "output_type": "execute_result"
    },
    {
     "data": {
      "image/png": "[encoded data removed]",
      "text/plain": [
       "<Figure size 505.175x432 with 1 Axes>"
      ]
     },
     "metadata": {},
     "output_type": "display_data"
    }
   ],
   "source": [
    "sns.set(style=\"whitegrid\")\n",
    "by_stay_in_city = df.groupby(['Stay_In_Current_City_Years','City_Category']).agg({'Purchase':np.mean}).reset_index()\n",
    "print(by_stay_in_city)\n",
    "\n",
    "# Plot \n",
    "plot= sns.catplot(x=\"Stay_In_Current_City_Years\", y=\"Purchase\", hue=\"City_Category\", data=by_stay_in_city,\n",
    "                height=6, kind=\"bar\", palette=\"muted\")\n",
    "plot.despine(left=True)\n",
    "#plot_gender_age.set_title(\"Purchase by City and Marital_Status \")\n",
    "plot.set_ylabels(\"Average Purchase by Stay in City  \")\n",
    "plot.set_xlabels(\"Stay in City\")\n"
   ]
  },
  {
   "cell_type": "markdown",
   "metadata": {},
   "source": []
  },
  {
   "cell_type": "markdown",
   "metadata": {},
   "source": [
    "### 3. Data Preparation\n",
    "\n",
    "#### (a) Are there any missing values in the dataset?\n"
   ]
  },
  {
   "cell_type": "code",
   "execution_count": 13,
   "metadata": {},
   "outputs": [
    {
     "data": {
      "text/plain": [
       "537577"
      ]
     },
     "execution_count": 13,
     "metadata": {},
     "output_type": "execute_result"
    }
   ],
   "source": [
    "len(df)"
   ]
  },
  {
   "cell_type": "code",
   "execution_count": 14,
   "metadata": {
    "scrolled": true
   },
   "outputs": [
    {
     "data": {
      "text/plain": [
       "User_ID                            0\n",
       "Product_ID                         0\n",
       "Gender                             0\n",
       "Age                                0\n",
       "Occupation                         0\n",
       "City_Category                      0\n",
       "Stay_In_Current_City_Years         0\n",
       "Marital_Status                     0\n",
       "Product_Category_1                 0\n",
       "Product_Category_2            166986\n",
       "Product_Category_3            373299\n",
       "Purchase                           0\n",
       "dtype: int64"
      ]
     },
     "execution_count": 14,
     "metadata": {},
     "output_type": "execute_result"
    }
   ],
   "source": [
    "df.isnull().sum()"
   ]
  },
  {
   "cell_type": "markdown",
   "metadata": {},
   "source": [
    "### Yes there are a lot of missing values in Product category 2 & 3."
   ]
  },
  {
   "cell_type": "code",
   "execution_count": 15,
   "metadata": {},
   "outputs": [
    {
     "name": "stdout",
     "output_type": "stream",
     "text": [
      "                     User_ID  Occupation  Marital_Status  Product_Category_1  \\\n",
      "User_ID             1.000000   -0.023024        0.018732            0.003687   \n",
      "Occupation         -0.023024    1.000000        0.024691           -0.008114   \n",
      "Marital_Status      0.018732    0.024691        1.000000            0.020546   \n",
      "Product_Category_1  0.003687   -0.008114        0.020546            1.000000   \n",
      "Product_Category_2  0.001471   -0.000031        0.015116            0.540423   \n",
      "Product_Category_3  0.004045    0.013452        0.019452            0.229490   \n",
      "Purchase            0.005389    0.021104        0.000129           -0.314125   \n",
      "\n",
      "                    Product_Category_2  Product_Category_3  Purchase  \n",
      "User_ID                       0.001471            0.004045  0.005389  \n",
      "Occupation                   -0.000031            0.013452  0.021104  \n",
      "Marital_Status                0.015116            0.019452  0.000129  \n",
      "Product_Category_1            0.540423            0.229490 -0.314125  \n",
      "Product_Category_2            1.000000            0.543544 -0.209973  \n",
      "Product_Category_3            0.543544            1.000000 -0.022257  \n",
      "Purchase                     -0.209973           -0.022257  1.000000  \n"
     ]
    }
   ],
   "source": [
    "print(df.corr())"
   ]
  },
  {
   "cell_type": "code",
   "execution_count": 16,
   "metadata": {},
   "outputs": [
    {
     "name": "stdout",
     "output_type": "stream",
     "text": [
      "                            OLS Regression Results                            \n",
      "==============================================================================\n",
      "Dep. Variable:               Purchase   R-squared:                       0.044\n",
      "Model:                            OLS   Adj. R-squared:                  0.044\n",
      "Method:                 Least Squares   F-statistic:                 1.709e+04\n",
      "Date:                Wed, 06 Feb 2019   Prob (F-statistic):               0.00\n",
      "Time:                        21:13:06   Log-Likelihood:            -3.6875e+06\n",
      "No. Observations:              370591   AIC:                         7.375e+06\n",
      "Df Residuals:                  370589   BIC:                         7.375e+06\n",
      "Df Model:                           1                                         \n",
      "Covariance Type:            nonrobust                                         \n",
      "======================================================================================\n",
      "                         coef    std err          t      P>|t|      [0.025      0.975]\n",
      "--------------------------------------------------------------------------------------\n",
      "Intercept           1.218e+04     18.144    671.257      0.000    1.21e+04    1.22e+04\n",
      "Product_Category_2  -214.1028      1.638   -130.738      0.000    -217.313    -210.893\n",
      "==============================================================================\n",
      "Omnibus:                    14967.449   Durbin-Watson:                   1.717\n",
      "Prob(Omnibus):                  0.000   Jarque-Bera (JB):            13661.662\n",
      "Skew:                           0.415   Prob(JB):                         0.00\n",
      "Kurtosis:                       2.556   Cond. No.                         24.3\n",
      "==============================================================================\n",
      "\n",
      "Warnings:\n",
      "[1] Standard Errors assume that the covariance matrix of the errors is correctly specified.\n",
      "[10894.54874069  9181.72634551 11750.95993829 ...  8967.62354611\n",
      "  8967.62354611 10466.3431419 ]\n"
     ]
    }
   ],
   "source": [
    "#running regression between purchase and Product_Category_2 to find if the R-square is high\n",
    "\n",
    "m = smf.ols(formula = \"Purchase ~ Product_Category_2\", data=df)\n",
    "f = m.fit()  # to estimate\n",
    "print(f.summary())  # to print summary\n",
    "print(f.predict())  # to compute predicted values"
   ]
  },
  {
   "cell_type": "markdown",
   "metadata": {},
   "source": [
    "#### Would drop Product_Category_3 as there are 60% missing values.\n",
    "#### Product_Category_2 as30% data is missing and the correlation is low"
   ]
  },
  {
   "cell_type": "markdown",
   "metadata": {},
   "source": [
    "#### (b) Please input the missing values by the best way possible.\n",
    "### (c) Convert any string values to numeric for the model to interpret the features."
   ]
  },
  {
   "cell_type": "code",
   "execution_count": 17,
   "metadata": {},
   "outputs": [],
   "source": [
    "df.Gender = pd.Categorical(df.Gender)\n",
    "df['Gender'] = df.Gender.cat.codes\n",
    "\n",
    "df.City_Category = pd.Categorical(df.City_Category)\n",
    "df['City_Category'] = df.City_Category.cat.codes\n",
    "\n",
    "df.Age = pd.Categorical(df.Age)\n",
    "df['Age'] = df.Age.cat.codes\n"
   ]
  },
  {
   "cell_type": "code",
   "execution_count": 18,
   "metadata": {},
   "outputs": [],
   "source": [
    "#dropping columns that are not required in the model\n",
    "df_model = df.drop(['User_ID', 'Product_ID','Product_Category_2','Product_Category_3'], axis=1)"
   ]
  },
  {
   "cell_type": "code",
   "execution_count": 19,
   "metadata": {},
   "outputs": [
    {
     "data": {
      "text/html": [
       "<div>\n",
       "<style scoped>\n",
       "    .dataframe tbody tr th:only-of-type {\n",
       "        vertical-align: middle;\n",
       "    }\n",
       "\n",
       "    .dataframe tbody tr th {\n",
       "        vertical-align: top;\n",
       "    }\n",
       "\n",
       "    .dataframe thead th {\n",
       "        text-align: right;\n",
       "    }\n",
       "</style>\n",
       "<table border=\"1\" class=\"dataframe\">\n",
       "  <thead>\n",
       "    <tr style=\"text-align: right;\">\n",
       "      <th></th>\n",
       "      <th>Gender</th>\n",
       "      <th>Age</th>\n",
       "      <th>Occupation</th>\n",
       "      <th>City_Category</th>\n",
       "      <th>Stay_In_Current_City_Years</th>\n",
       "      <th>Marital_Status</th>\n",
       "      <th>Product_Category_1</th>\n",
       "      <th>Purchase</th>\n",
       "    </tr>\n",
       "  </thead>\n",
       "  <tbody>\n",
       "    <tr>\n",
       "      <th>0</th>\n",
       "      <td>0</td>\n",
       "      <td>0</td>\n",
       "      <td>10</td>\n",
       "      <td>0</td>\n",
       "      <td>2.0</td>\n",
       "      <td>0</td>\n",
       "      <td>3</td>\n",
       "      <td>8370</td>\n",
       "    </tr>\n",
       "    <tr>\n",
       "      <th>1</th>\n",
       "      <td>0</td>\n",
       "      <td>0</td>\n",
       "      <td>10</td>\n",
       "      <td>0</td>\n",
       "      <td>2.0</td>\n",
       "      <td>0</td>\n",
       "      <td>1</td>\n",
       "      <td>15200</td>\n",
       "    </tr>\n",
       "    <tr>\n",
       "      <th>2</th>\n",
       "      <td>0</td>\n",
       "      <td>0</td>\n",
       "      <td>10</td>\n",
       "      <td>0</td>\n",
       "      <td>2.0</td>\n",
       "      <td>0</td>\n",
       "      <td>12</td>\n",
       "      <td>1422</td>\n",
       "    </tr>\n",
       "    <tr>\n",
       "      <th>3</th>\n",
       "      <td>0</td>\n",
       "      <td>0</td>\n",
       "      <td>10</td>\n",
       "      <td>0</td>\n",
       "      <td>2.0</td>\n",
       "      <td>0</td>\n",
       "      <td>12</td>\n",
       "      <td>1057</td>\n",
       "    </tr>\n",
       "    <tr>\n",
       "      <th>4</th>\n",
       "      <td>1</td>\n",
       "      <td>6</td>\n",
       "      <td>16</td>\n",
       "      <td>2</td>\n",
       "      <td>4.0</td>\n",
       "      <td>0</td>\n",
       "      <td>8</td>\n",
       "      <td>7969</td>\n",
       "    </tr>\n",
       "  </tbody>\n",
       "</table>\n",
       "</div>"
      ],
      "text/plain": [
       "   Gender  Age  Occupation  City_Category Stay_In_Current_City_Years  \\\n",
       "0       0    0          10              0                        2.0   \n",
       "1       0    0          10              0                        2.0   \n",
       "2       0    0          10              0                        2.0   \n",
       "3       0    0          10              0                        2.0   \n",
       "4       1    6          16              2                        4.0   \n",
       "\n",
       "   Marital_Status  Product_Category_1  Purchase  \n",
       "0               0                   3      8370  \n",
       "1               0                   1     15200  \n",
       "2               0                  12      1422  \n",
       "3               0                  12      1057  \n",
       "4               0                   8      7969  "
      ]
     },
     "execution_count": 19,
     "metadata": {},
     "output_type": "execute_result"
    }
   ],
   "source": [
    "df_model.head()"
   ]
  },
  {
   "cell_type": "markdown",
   "metadata": {},
   "source": [
    "#### (d) Define X and Y matrices for modelling."
   ]
  },
  {
   "cell_type": "code",
   "execution_count": 20,
   "metadata": {},
   "outputs": [],
   "source": [
    "X = df_model.drop(['Purchase'],axis=1)\n",
    "Y = df_model['Purchase']"
   ]
  },
  {
   "cell_type": "markdown",
   "metadata": {},
   "source": [
    "#### (e) Perform one-hot encoding for all the categorical features which are not ordinal."
   ]
  },
  {
   "cell_type": "code",
   "execution_count": 21,
   "metadata": {},
   "outputs": [],
   "source": [
    "X = pd.get_dummies(X, columns=['Age'], drop_first=True, prefix='Age')\n",
    "X = pd.get_dummies(X, columns=['Occupation'], drop_first=True, prefix='Occupation')\n",
    "X = pd.get_dummies(X, columns=['City_Category'], drop_first=True, prefix='City_Category')\n",
    "X = pd.get_dummies(X, columns=['Stay_In_Current_City_Years'], drop_first=True, prefix='Stay_In_Current_City_Years')\n"
   ]
  },
  {
   "cell_type": "code",
   "execution_count": 22,
   "metadata": {},
   "outputs": [
    {
     "data": {
      "text/plain": [
       "Index(['Gender', 'Marital_Status', 'Product_Category_1', 'Age_1', 'Age_2',\n",
       "       'Age_3', 'Age_4', 'Age_5', 'Age_6', 'Occupation_1', 'Occupation_2',\n",
       "       'Occupation_3', 'Occupation_4', 'Occupation_5', 'Occupation_6',\n",
       "       'Occupation_7', 'Occupation_8', 'Occupation_9', 'Occupation_10',\n",
       "       'Occupation_11', 'Occupation_12', 'Occupation_13', 'Occupation_14',\n",
       "       'Occupation_15', 'Occupation_16', 'Occupation_17', 'Occupation_18',\n",
       "       'Occupation_19', 'Occupation_20', 'City_Category_1', 'City_Category_2',\n",
       "       'Stay_In_Current_City_Years_1.0', 'Stay_In_Current_City_Years_2.0',\n",
       "       'Stay_In_Current_City_Years_3.0', 'Stay_In_Current_City_Years_4.0'],\n",
       "      dtype='object')"
      ]
     },
     "execution_count": 22,
     "metadata": {},
     "output_type": "execute_result"
    }
   ],
   "source": [
    "X.columns"
   ]
  },
  {
   "cell_type": "markdown",
   "metadata": {},
   "source": [
    "#### (f) Split the data into train and test set."
   ]
  },
  {
   "cell_type": "code",
   "execution_count": 23,
   "metadata": {},
   "outputs": [],
   "source": [
    "from sklearn.model_selection import train_test_split\n",
    "X_train, X_test, y_train, y_test = train_test_split(X, Y, test_size=0.33, random_state=42)"
   ]
  },
  {
   "cell_type": "markdown",
   "metadata": {},
   "source": [
    "#### (g) Scale the data using StandardScaler in sklearn"
   ]
  },
  {
   "cell_type": "code",
   "execution_count": 24,
   "metadata": {},
   "outputs": [],
   "source": [
    "from sklearn.preprocessing import StandardScaler\n",
    "scaler = StandardScaler()\n",
    "X_train = scaler.fit_transform(X_train)\n",
    "X_train = pd.DataFrame(X_train, columns=['Gender', 'Marital_Status', 'Product_Category_1',\n",
    "        'Age_1', 'Age_2', 'Age_3', 'Age_4', 'Age_5',\n",
    "       'Age_6', 'Occupation_1', 'Occupation_2', 'Occupation_3', 'Occupation_4',\n",
    "       'Occupation_5', 'Occupation_6', 'Occupation_7', 'Occupation_8',\n",
    "       'Occupation_9', 'Occupation_10', 'Occupation_11', 'Occupation_12',\n",
    "       'Occupation_13', 'Occupation_14', 'Occupation_15', 'Occupation_16',\n",
    "       'Occupation_17', 'Occupation_18', 'Occupation_19', 'Occupation_20',\n",
    "       'City_Category_1', 'City_Category_2', 'Stay_In_Current_City_Years_1',\n",
    "       'Stay_In_Current_City_Years_2', 'Stay_In_Current_City_Years_3',\n",
    "       'Stay_In_Current_City_Years_4+'])\n",
    "\n",
    "\n",
    "\n",
    "X_test = scaler.fit_transform(X_test)\n",
    "X_test = pd.DataFrame(X_test, columns=['Gender', 'Marital_Status', 'Product_Category_1'\n",
    "        , 'Age_1', 'Age_2', 'Age_3', 'Age_4', 'Age_5',\n",
    "       'Age_6', 'Occupation_1', 'Occupation_2', 'Occupation_3', 'Occupation_4',\n",
    "       'Occupation_5', 'Occupation_6', 'Occupation_7', 'Occupation_8',\n",
    "       'Occupation_9', 'Occupation_10', 'Occupation_11', 'Occupation_12',\n",
    "       'Occupation_13', 'Occupation_14', 'Occupation_15', 'Occupation_16',\n",
    "       'Occupation_17', 'Occupation_18', 'Occupation_19', 'Occupation_20',\n",
    "       'City_Category_1', 'City_Category_2', 'Stay_In_Current_City_Years_1',\n",
    "       'Stay_In_Current_City_Years_2', 'Stay_In_Current_City_Years_3',\n",
    "       'Stay_In_Current_City_Years_4+'])\n"
   ]
  },
  {
   "cell_type": "markdown",
   "metadata": {},
   "source": [
    "### 5. Regression Model\n",
    "#### (a) Perform a basic binary classification to predict the purchase using Random Forest\n",
    "\n",
    "#### As the purchase is continuous, I am using regressor and not classification model\n"
   ]
  },
  {
   "cell_type": "code",
   "execution_count": 25,
   "metadata": {},
   "outputs": [
    {
     "name": "stderr",
     "output_type": "stream",
     "text": [
      "C:\\Users\\Amit Manghwani\\Anaconda3\\lib\\site-packages\\sklearn\\ensemble\\weight_boosting.py:29: DeprecationWarning: numpy.core.umath_tests is an internal NumPy module and should not be imported. It will be removed in a future NumPy release.\n",
      "  from numpy.core.umath_tests import inner1d\n"
     ]
    }
   ],
   "source": [
    "from sklearn.ensemble import RandomForestRegressor\n",
    "regr = RandomForestRegressor(max_depth=4, random_state=0,n_estimators=200)"
   ]
  },
  {
   "cell_type": "code",
   "execution_count": 26,
   "metadata": {},
   "outputs": [
    {
     "data": {
      "text/plain": [
       "RandomForestRegressor(bootstrap=True, criterion='mse', max_depth=4,\n",
       "           max_features='auto', max_leaf_nodes=None,\n",
       "           min_impurity_decrease=0.0, min_impurity_split=None,\n",
       "           min_samples_leaf=1, min_samples_split=2,\n",
       "           min_weight_fraction_leaf=0.0, n_estimators=200, n_jobs=1,\n",
       "           oob_score=False, random_state=0, verbose=0, warm_start=False)"
      ]
     },
     "execution_count": 26,
     "metadata": {},
     "output_type": "execute_result"
    }
   ],
   "source": [
    "regr.fit(X_train,y_train)"
   ]
  },
  {
   "cell_type": "code",
   "execution_count": 27,
   "metadata": {},
   "outputs": [
    {
     "data": {
      "image/png": "[encoded data removed]",
      "text/plain": [
       "<Figure size 432x288 with 1 Axes>"
      ]
     },
     "metadata": {},
     "output_type": "display_data"
    }
   ],
   "source": [
    "features = list(X_train.columns)\n",
    "importances = regr.feature_importances_\n",
    "indices = np.argsort(importances)\n",
    "\n",
    "plt.title('Feature Importances')\n",
    "plt.barh(range(len(indices)), importances[indices], color='b', align='center')\n",
    "plt.yticks(range(len(indices)), [features[i] for i in indices])\n",
    "plt.xlabel('Relative Importance')\n",
    "plt.show()"
   ]
  },
  {
   "cell_type": "code",
   "execution_count": null,
   "metadata": {},
   "outputs": [],
   "source": [
    "#### Looks like only product_category_1 and City_category_2 have high importance. \n",
    "#### It would be interesting to see if I had filled the missing values by a different integer(since product is a category), \n",
    "#### then the feature importance results might have been high for product_category_2 and product_category_3 as well. \n",
    "#### "
   ]
  }
 ],
 "metadata": {
  "kernelspec": {
   "display_name": "Python 3",
   "language": "python",
   "name": "python3"
  },
  "language_info": {
   "codemirror_mode": {
    "name": "ipython",
    "version": 3
   },
   "file_extension": ".py",
   "mimetype": "text/x-python",
   "name": "python",
   "nbconvert_exporter": "python",
   "pygments_lexer": "ipython3",
   "version": "3.7.0"
  }
 },
 "nbformat": 4,
 "nbformat_minor": 2
}
